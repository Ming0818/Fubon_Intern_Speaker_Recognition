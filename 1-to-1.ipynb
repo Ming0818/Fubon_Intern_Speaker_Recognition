{
 "cells": [
  {
   "cell_type": "code",
   "execution_count": 1,
   "metadata": {
    "collapsed": true
   },
   "outputs": [],
   "source": [
    "import numpy as np\n",
    "from scipy.io.wavfile import read\n",
    "from python_speech_features import mfcc, delta\n",
    "import os\n",
    "import _pickle as pickle\n",
    "from sklearn.mixture import GMM\n",
    "from sklearn import preprocessing\n",
    "import warnings\n",
    "warnings.filterwarnings(\"ignore\")\n",
    "import pyaudio\n",
    "import wave"
   ]
  },
  {
   "cell_type": "code",
   "execution_count": 2,
   "metadata": {
    "collapsed": true
   },
   "outputs": [],
   "source": [
    "# Preprocessing - ver2: get MFCC-delta2\n",
    "def Train_MFCC_delta2(sr, audio):\n",
    "    mfcc_feat = mfcc(audio,sr, 0.025, 0.01, 13,nfft=2048,appendEnergy = False)\n",
    "    d_mfcc_feat = delta(mfcc_feat,2)\n",
    "    dd_mfcc_feat = delta(d_mfcc_feat,2)\n",
    "    features = np.asarray(())\n",
    "    features = np.hstack([mfcc_feat, d_mfcc_feat, dd_mfcc_feat])\n",
    "    features = preprocessing.scale(features)\n",
    "    return features"
   ]
  },
  {
   "cell_type": "code",
   "execution_count": 3,
   "metadata": {
    "collapsed": true
   },
   "outputs": [],
   "source": [
    "def Test_MFCC_delta2(sr,audio):\n",
    "    mfcc_feat = mfcc(audio,sr, 0.025, 0.01, 13, nfft=2048,appendEnergy = False)\n",
    "    d_mfcc_feat = delta(mfcc_feat,2)\n",
    "    dd_mfcc_feat = delta(d_mfcc_feat,2)\n",
    "    features = np.asarray(())\n",
    "    features = np.hstack([mfcc_feat, d_mfcc_feat, dd_mfcc_feat])\n",
    "    #features = [np.concatenate((i,np.zeros((1208-i.shape[0],39)))) for i in features]\n",
    "    feat = np.asarray(())\n",
    "    \n",
    "    for i in range(features.shape[0]):\n",
    "        temp = features[i,:]\n",
    "        if np.isnan(np.min(temp)):\n",
    "            continue\n",
    "        else:\n",
    "            if feat.size == 0:\n",
    "                feat = temp\n",
    "            else:\n",
    "                feat = np.vstack((feat, temp))\n",
    "                \n",
    "    features = feat\n",
    "    \n",
    "    # SD\n",
    "    features = preprocessing.scale(features)\n",
    "    return features"
   ]
  },
  {
   "cell_type": "markdown",
   "metadata": {},
   "source": [
    "# Debug"
   ]
  },
  {
   "cell_type": "code",
   "execution_count": 40,
   "metadata": {},
   "outputs": [
    {
     "name": "stdout",
     "output_type": "stream",
     "text": [
      "3\n",
      "徐天鴻  is the closest  1561.996657566502\n",
      "12\n",
      "陳亭嘉  is the closest  1301.6990847067573\n",
      "10\n",
      "賴昇頤  is the closest  1506.2878987459408\n",
      "7\n",
      "洪立全  is the closest  757.7568746323523\n",
      "12\n",
      "陳亭嘉  is the closest  909.3786946324981\n",
      "10\n",
      "賴昇頤  is the closest  1174.020406731186\n",
      "10\n",
      "賴昇頤  is the closest  3155.069802934653\n",
      "3\n",
      "徐天鴻  is the closest  3295.532103006015\n",
      "3\n",
      "徐天鴻  is the closest  1643.0339856859791\n",
      "3\n",
      "徐天鴻  is the closest  1417.1825046079684\n",
      "15\n",
      "陳慶安  is the closest  3270.346103525604\n",
      "12\n",
      "陳亭嘉  is the closest  996.9996459452886\n",
      "15\n",
      "陳慶安  is the closest  1634.8855968795833\n",
      "3\n",
      "徐天鴻  is the closest  2041.543692598927\n",
      "10\n",
      "賴昇頤  is the closest  2980.1930311879114\n",
      "10\n",
      "賴昇頤  is the closest  2016.056559034565\n",
      "10\n",
      "賴昇頤  is the closest  1658.4745574633707\n",
      "10\n",
      "賴昇頤  is the closest  2140.061515507303\n",
      "10\n",
      "賴昇頤  is the closest  1177.2914639768205\n",
      "10\n",
      "賴昇頤  is the closest  550.9941795328268\n",
      "15\n",
      "陳慶安  is the closest  928.2845781022661\n",
      "10\n",
      "賴昇頤  is the closest  922.0469911991459\n",
      "10\n",
      "賴昇頤  is the closest  2176.6537558681157\n"
     ]
    }
   ],
   "source": [
    "sourcepath = \"C:\\\\Users\\\\user\\\\Desktop\\\\科研部_SR\\\\audio dataset\\\\Test\\\\任卓英\\\\\"\n",
    "modelpath  = \"C:\\\\Users\\\\user\\\\Desktop\\\\科研部_SR\\\\model\\\\\"  \n",
    "gmm_files = [os.path.join(modelpath,fname) for fname in os.listdir(modelpath) if fname.endswith('.gmm')]\n",
    "models    = [pickle.load(open(fname,'rb')) for fname in gmm_files]\n",
    "files = [os.path.join(sourcepath,fname) for fname in os.listdir(sourcepath) if fname.endswith('.wav')]\n",
    "people   = [fname.split(\"\\\\\")[-1].split(\".gmm\")[0] for fname in gmm_files]\n",
    "diff = []\n",
    "\n",
    "for f in files:\n",
    "    sr, y = read(f)\n",
    "    features= Test_MFCC_delta2(sr,y)\n",
    "    scores= None\n",
    "    log_likelihood= np.zeros(len(models)) \n",
    "    \n",
    "    for i in range(len(models)):\n",
    "        gmm= models[i]         #checking with each model one by one\n",
    "        scores= np.array(gmm.score(features))\n",
    "        log_likelihood[i] = scores.sum()\n",
    "        \n",
    "    winner = np.argmax(log_likelihood)\n",
    "    \n",
    "    for i in range(len(models)):\n",
    "        a = abs(log_likelihood[i]-log_likelihood[winner])\n",
    "        if(a>0):\n",
    "            diff.append(a)\n",
    "    \n",
    "    #print('\\tdetected as - ', people[winner])\n",
    "    close = np.argmin(diff)\n",
    "    print(close)\n",
    "    #print(min(diff))\n",
    "    print(people[close],' is the closest ',diff[close])\n",
    "    diff = []"
   ]
  },
  {
   "cell_type": "code",
   "execution_count": 16,
   "metadata": {},
   "outputs": [
    {
     "name": "stdout",
     "output_type": "stream",
     "text": [
      "\tdetected as -  陳冠霖\n",
      "Diff between master:  104.62395721612847\n",
      "陳祐嘉  is the closest  2092.3664996953157\n",
      "\tdetected as -  任卓英\n",
      "Diff between master:  334.6303006964408\n",
      "陳祐嘉  is the closest  3104.602468359153\n",
      "\tdetected as -  任卓英\n",
      "Diff between master:  234.01337198766123\n",
      "陳祐嘉  is the closest  6075.443108327207\n",
      "\tdetected as -  任卓英\n",
      "Diff between master:  217.39108729595318\n",
      "陳祐嘉  is the closest  6075.443108327207\n",
      "\tdetected as -  陳祐嘉\n",
      "Diff between master:  17.921949424588092\n",
      "陳祐嘉  is the closest  6075.443108327207\n",
      "\tdetected as -  賴嘉平\n",
      "Diff between master:  9.391812181813293\n",
      "陳祐嘉  is the closest  6075.443108327207\n",
      "\tdetected as -  任卓英\n",
      "Diff between master:  164.64992750558304\n",
      "陳祐嘉  is the closest  8500.448562234647\n"
     ]
    }
   ],
   "source": [
    "sourcepath = \"C:\\\\Users\\\\user\\\\Desktop\\\\科研部_SR\\\\audio dataset\\\\Test\\\\蘇玫如\\\\蘇玫如_\"\n",
    "error = ['13.wav','16.wav','35.wav','37.wav','39.wav','43.wav','48.wav']\n",
    "modelpath  = \"C:\\\\Users\\\\user\\\\Desktop\\\\科研部_SR\\\\model\\\\\"  \n",
    "gmm_files = [os.path.join(modelpath,fname) for fname in os.listdir(modelpath) if fname.endswith('.gmm')]\n",
    "models    = [pickle.load(open(fname,'rb')) for fname in gmm_files]\n",
    "people   = [fname.split(\"\\\\\")[-1].split(\".gmm\")[0] for fname in gmm_files]\n",
    "diff = []\n",
    "\n",
    "for i in range(len(models)):\n",
    "    if(people[i]=='蘇玫如'):\n",
    "        master = i\n",
    "\n",
    "for i in range(len(error)):\n",
    "    sr, y = read(sourcepath+error[i])\n",
    "    features= Test_MFCC_delta2(sr,y)\n",
    "    scores= None\n",
    "    log_likelihood= np.zeros(len(models)) \n",
    "    \n",
    "    for i in range(len(models)):\n",
    "        gmm= models[i]         #checking with each model one by one\n",
    "        scores= np.array(gmm.score(features))\n",
    "        log_likelihood[i] = scores.sum()\n",
    "\n",
    "    winner = np.argmax(log_likelihood)\n",
    "    print('\\tdetected as - ', people[winner])\n",
    "    print('Diff between master: ',abs(log_likelihood[winner]-log_likelihood[master]))\n",
    "            \n",
    "    for i in range(len(models)):\n",
    "        diff.append(np.array(abs(log_likelihood[i]-log_likelihood[winner])))\n",
    "        #print(people[i],': ',diff[i])\n",
    "\n",
    "    close = np.argmax(diff)\n",
    "    print(people[i],' is the closest ',diff[close])"
   ]
  },
  {
   "cell_type": "code",
   "execution_count": 105,
   "metadata": {},
   "outputs": [],
   "source": [
    "def Similarity(a, b, answer, predict):\n",
    "    if predict==answer:\n",
    "        score = 100\n",
    "    else:\n",
    "        score = 100 + (abs(a-b)/b*1000)\n",
    "    return score"
   ]
  },
  {
   "cell_type": "markdown",
   "metadata": {},
   "source": [
    "## 馬上錄音，進行 detect 1-to-1 matching"
   ]
  },
  {
   "cell_type": "code",
   "execution_count": 107,
   "metadata": {},
   "outputs": [
    {
     "name": "stdout",
     "output_type": "stream",
     "text": [
      "01\n",
      "Detected as- 蘇玫如\n",
      "Similarity:  100 %\n",
      "Correct~ May I help you, sir?\n",
      "\n",
      "\n",
      "02\n",
      "Detected as- 洪立全\n",
      "Similarity:  88.3922841183637 %\n",
      "Error ! Please try again\n",
      "\n",
      "\n",
      "03\n",
      "Detected as- 蘇玫如\n",
      "Similarity:  100 %\n",
      "Correct~ May I help you, sir?\n",
      "\n",
      "\n",
      "04\n",
      "Detected as- 蘇玫如\n",
      "Similarity:  100 %\n",
      "Correct~ May I help you, sir?\n",
      "\n",
      "\n",
      "05\n",
      "Detected as- 洪立全\n",
      "Similarity:  98.52826514745726 %\n",
      "Correct~ May I help you, sir?\n",
      "\n",
      "\n",
      "06\n",
      "Detected as- 洪立全\n",
      "Similarity:  83.93482254112897 %\n",
      "Error ! Please try again\n",
      "\n",
      "\n",
      "07\n",
      "Detected as- 洪立全\n",
      "Similarity:  96.88487122368446 %\n",
      "Correct~ May I help you, sir?\n",
      "\n",
      "\n",
      "08\n",
      "Detected as- 蘇玫如\n",
      "Similarity:  100 %\n",
      "Correct~ May I help you, sir?\n",
      "\n",
      "\n",
      "09\n",
      "Detected as- 蘇玫如\n",
      "Similarity:  100 %\n",
      "Correct~ May I help you, sir?\n",
      "\n",
      "\n",
      "10\n",
      "Detected as- 蘇玫如\n",
      "Similarity:  100 %\n",
      "Correct~ May I help you, sir?\n",
      "\n",
      "\n"
     ]
    }
   ],
   "source": [
    "'''# Record a WAV file\n",
    "FORMAT = pyaudio.paInt16\n",
    "CHANNELS = 1\n",
    "RATE = 44100\n",
    "CHUNK = 1024\n",
    "RECORD_SECONDS = 5\n",
    "WAVE_OUTPUT_FILENAME = \"test.wav\"\n",
    " \n",
    "audio = pyaudio.PyAudio()\n",
    " \n",
    "# start Recording\n",
    "stream = audio.open(format=FORMAT, channels=CHANNELS,rate=RATE, input=True,frames_per_buffer=CHUNK)\n",
    "print (\"recording...\")\n",
    "frames = []\n",
    "for i in range(0, int(RATE / CHUNK * RECORD_SECONDS)):\n",
    "    data = stream.read(CHUNK)\n",
    "    frames.append(data)\n",
    "print (\"finished recording\")\n",
    " \n",
    "# stop Recording\n",
    "stream.stop_stream()\n",
    "stream.close()\n",
    "audio.terminate()\n",
    " \n",
    "waveFile = wave.open(WAVE_OUTPUT_FILENAME, 'wb')\n",
    "waveFile.setnchannels(CHANNELS)\n",
    "waveFile.setsampwidth(audio.get_sample_size(FORMAT))\n",
    "waveFile.setframerate(RATE)\n",
    "waveFile.writeframes(b''.join(frames))\n",
    "waveFile.close()'''\n",
    "\n",
    "sourcepath = \"C:\\\\Users\\\\user\\\\Desktop\\\\科研部_SR\\\\5 sec sample_玫如\\\\\"\n",
    "modelpath = \"C:\\\\Users\\\\user\\\\Desktop\\\\科研部_SR\\\\model\\\\\" \n",
    "files  = [os.path.join(sourcepath,f) for f in os.listdir(sourcepath) if f.endswith(\".wav\")] \n",
    "gmm_files = [os.path.join(modelpath,fname) for fname in os.listdir(modelpath) if fname.endswith('.gmm')]\n",
    "models    = [pickle.load(open(fname,'rb')) for fname in gmm_files]\n",
    "people   = [fname.split(\"\\\\\")[-1].split(\".gmm\")[0] for fname in gmm_files]\n",
    "\n",
    "for f in files:\n",
    "    sr, y = read(f)\n",
    "    features= Test_MFCC_delta2(sr,y)\n",
    "    scores= None\n",
    "    log_likelihood= np.zeros(len(models)) \n",
    "        \n",
    "    for i in range(len(models)):\n",
    "        gmm= models[i]         #checking with each model one by one\n",
    "        scores= np.array(gmm.score(features))\n",
    "        log_likelihood[i] = scores.sum()\n",
    "        \n",
    "    winner = np.argmax(log_likelihood)\n",
    "    print(f.split('\\\\')[-1].split('.wav')[0])\n",
    "    #print(log_likelihood[8])\n",
    "    score = Similarity(log_likelihood[8], log_likelihood[winner], people[8], people[winner])\n",
    "    print('Detected as-', people[winner])\n",
    "    print(\"Similarity: \", score ,'%')\n",
    "    if score <= 90:\n",
    "        print('Error ! Please try again')\n",
    "    else:\n",
    "        print('Correct~ May I help you, sir?')\n",
    "    \n",
    "    print('\\n')"
   ]
  },
  {
   "cell_type": "code",
   "execution_count": 73,
   "metadata": {},
   "outputs": [
    {
     "name": "stdout",
     "output_type": "stream",
     "text": [
      "01\n",
      "0.0\n",
      "Detected as:  蘇玫如\n",
      "\n",
      "\n",
      "02\n",
      "297.41079205688584\n",
      "Detected as:  洪立全\n",
      "\n",
      "\n",
      "03\n",
      "0.0\n",
      "Detected as:  蘇玫如\n",
      "\n",
      "\n",
      "04\n",
      "0.0\n",
      "Detected as:  蘇玫如\n",
      "\n",
      "\n",
      "05\n",
      "35.68895747955321\n",
      "Detected as:  洪立全\n",
      "\n",
      "\n",
      "06\n",
      "405.07586533642825\n",
      "Detected as:  洪立全\n",
      "\n",
      "\n",
      "07\n",
      "77.2846756038598\n",
      "Detected as:  洪立全\n",
      "\n",
      "\n",
      "08\n",
      "0.0\n",
      "Detected as:  蘇玫如\n",
      "\n",
      "\n",
      "09\n",
      "0.0\n",
      "Detected as:  蘇玫如\n",
      "\n",
      "\n",
      "10\n",
      "0.0\n",
      "Detected as:  蘇玫如\n",
      "\n",
      "\n"
     ]
    }
   ],
   "source": [
    "sourcepath = \"C:\\\\Users\\\\user\\\\Desktop\\\\科研部_SR\\\\\"\n",
    "modelpath = \"C:\\\\Users\\\\user\\\\Desktop\\\\科研部_SR\\\\model\\\\\" \n",
    "files  = [os.path.join(sourcepath,f) for f in os.listdir(sourcepath) if f.endswith(\".wav\")] \n",
    "gmm_files = [os.path.join(modelpath,fname) for fname in os.listdir(modelpath) if fname.endswith('.gmm')]\n",
    "models    = [pickle.load(open(fname,'rb')) for fname in gmm_files]\n",
    "people   = [fname.split(\"\\\\\")[-1].split(\".gmm\")[0] for fname in gmm_files]\n",
    "\n",
    "for f in files:\n",
    "    sr, y = read(f)\n",
    "    features= Test_MFCC_delta2(sr,y)\n",
    "    scores= None\n",
    "    log_likelihood= np.zeros(len(models)) \n",
    "        \n",
    "    for i in range(len(models)):\n",
    "        gmm= models[i]         #checking with each model one by one\n",
    "        scores= np.array(gmm.score(features))\n",
    "        log_likelihood[i] = scores.sum()\n",
    "        \n",
    "    winner = np.argmax(log_likelihood)\n",
    "    print(f.split('\\\\')[-1].split('.wav')[0])\n",
    "    print(abs(log_likelihood[winner]-log_likelihood[8]))\n",
    "    print(\"Detected as: \", people[winner])\n",
    "    print('\\n')"
   ]
  },
  {
   "cell_type": "code",
   "execution_count": 129,
   "metadata": {},
   "outputs": [
    {
     "name": "stdout",
     "output_type": "stream",
     "text": [
      "柯青宏\n",
      "-1102839.1902235567\n",
      "Detected as:  柯青宏\n",
      "\n",
      "\n"
     ]
    }
   ],
   "source": [
    "# Test model\n",
    "sourcepath = \"C:\\\\Users\\\\user\\\\Desktop\\\\科研部_SR\\\\raw audio dataset\\\\test\\\\柯青宏_test.wav\"\n",
    "modelpath  = \"C:\\\\Users\\\\user\\\\Desktop\\\\科研部_SR\\\\model\\\\\"  \n",
    "\n",
    "#files  = [os.path.join(sourcepath,f) for f in os.listdir(sourcepath) if f.endswith(\".wav\")] \n",
    "gmm_files = [os.path.join(modelpath,fname) for fname in os.listdir(modelpath) if fname.endswith('.gmm')]\n",
    "models    = [pickle.load(open(fname,'rb')) for fname in gmm_files]\n",
    "people   = [fname.split(\"\\\\\")[-1].split(\".gmm\")[0] for fname in gmm_files]\n",
    "name = files[0].split('\\\\')[-1].split('.wav')[0]\n",
    "\n",
    "for i in range(len(models)):\n",
    "    if(people[i]==name):\n",
    "        name_idx= i\n",
    "\n",
    "\n",
    "sr, y = read(sourcepath)\n",
    "features= Test_MFCC_delta2(sr,y)\n",
    "scores= None\n",
    "log_likelihood= np.zeros(len(models)) \n",
    "        \n",
    "for i in range(len(models)):\n",
    "    gmm= models[i]         #checking with each model one by one\n",
    "    scores= np.array(gmm.score(features))\n",
    "    log_likelihood[i] = scores.sum()\n",
    "        \n",
    "winner = np.argmax(log_likelihood)\n",
    "print(sourcepath.split('\\\\')[-1].split('_test.wav')[0])\n",
    "print(log_likelihood[winner])\n",
    "print(\"Detected as: \", people[winner])\n",
    "print('\\n')"
   ]
  },
  {
   "cell_type": "code",
   "execution_count": 56,
   "metadata": {},
   "outputs": [
    {
     "data": {
      "text/plain": [
       "['C:\\\\Users\\\\user\\\\Desktop\\\\科研部_SR\\\\蘇玫如.wav']"
      ]
     },
     "execution_count": 56,
     "metadata": {},
     "output_type": "execute_result"
    }
   ],
   "source": [
    "files"
   ]
  },
  {
   "cell_type": "markdown",
   "metadata": {},
   "source": [
    "# 正式\n",
    "錄音5秒進行身分驗證。如果對，則秀出照片。如果錯誤就不予執行後續動作"
   ]
  },
  {
   "cell_type": "code",
   "execution_count": 108,
   "metadata": {
    "collapsed": true
   },
   "outputs": [],
   "source": [
    "import numpy as np\n",
    "from scipy.io.wavfile import read\n",
    "from python_speech_features import mfcc, delta\n",
    "import os\n",
    "import _pickle as pickle\n",
    "from sklearn.mixture import GMM\n",
    "from sklearn import preprocessing\n",
    "import warnings\n",
    "warnings.filterwarnings(\"ignore\")\n",
    "import pyaudio\n",
    "import wave\n",
    "\n",
    "import matplotlib.pyplot as plt\n",
    "from matplotlib.pyplot import imshow\n",
    "import numpy as np\n",
    "from PIL import Image\n",
    "%matplotlib inline"
   ]
  },
  {
   "cell_type": "code",
   "execution_count": 130,
   "metadata": {
    "collapsed": true
   },
   "outputs": [],
   "source": [
    "def Similarity(a, b, answer, predict):\n",
    "    if predict==answer:\n",
    "        score = 100\n",
    "    else:\n",
    "        score = 100 + (abs(a-b)/b*1000)\n",
    "    return score"
   ]
  },
  {
   "cell_type": "code",
   "execution_count": 131,
   "metadata": {},
   "outputs": [
    {
     "name": "stdout",
     "output_type": "stream",
     "text": [
      "recording...\n",
      "finished recording\n",
      "Detected as- 蘇玫如\n",
      "Similarity:  100 %\n"
     ]
    },
    {
     "data": {
      "image/png": "[encoded data removed]",
      "text/plain": [
       "<matplotlib.figure.Figure at 0x26d80196588>"
      ]
     },
     "metadata": {},
     "output_type": "display_data"
    },
    {
     "name": "stdout",
     "output_type": "stream",
     "text": [
      "Correct~ May I help you, 蘇玫如?\n"
     ]
    }
   ],
   "source": [
    "# Record a WAV file\n",
    "FORMAT = pyaudio.paInt16\n",
    "CHANNELS = 1\n",
    "RATE = 44100\n",
    "CHUNK = 1024\n",
    "RECORD_SECONDS = 5\n",
    "WAVE_OUTPUT_FILENAME = \"test.wav\"\n",
    " \n",
    "audio = pyaudio.PyAudio()\n",
    " \n",
    "# start Recording\n",
    "stream = audio.open(format=FORMAT, channels=CHANNELS,rate=RATE, input=True,frames_per_buffer=CHUNK)\n",
    "print (\"recording...\")\n",
    "frames = []\n",
    "for i in range(0, int(RATE / CHUNK * RECORD_SECONDS)):\n",
    "    data = stream.read(CHUNK)\n",
    "    frames.append(data)\n",
    "print (\"finished recording\")\n",
    " \n",
    "# stop Recording\n",
    "stream.stop_stream()\n",
    "stream.close()\n",
    "audio.terminate()\n",
    " \n",
    "waveFile = wave.open(WAVE_OUTPUT_FILENAME, 'wb')\n",
    "waveFile.setnchannels(CHANNELS)\n",
    "waveFile.setsampwidth(audio.get_sample_size(FORMAT))\n",
    "waveFile.setframerate(RATE)\n",
    "waveFile.writeframes(b''.join(frames))\n",
    "waveFile.close()\n",
    "\n",
    "sourcepath = \"C:\\\\Users\\\\user\\\\Desktop\\\\科研部_SR\\\\\"\n",
    "modelpath = \"C:\\\\Users\\\\user\\\\Desktop\\\\科研部_SR\\\\model\\\\\" \n",
    "files  = [os.path.join(sourcepath,f) for f in os.listdir(sourcepath) if f.endswith(\".wav\")] \n",
    "gmm_files = [os.path.join(modelpath,fname) for fname in os.listdir(modelpath) if fname.endswith('.gmm')]\n",
    "models    = [pickle.load(open(fname,'rb')) for fname in gmm_files]\n",
    "people   = [fname.split(\"\\\\\")[-1].split(\".gmm\")[0] for fname in gmm_files]\n",
    "\n",
    "# 隨時調整\n",
    "owner = '蘇玫如'\n",
    "for i in range(len(models)):\n",
    "    if(people[i]==owner):\n",
    "        owner_idx = i\n",
    "\n",
    "for f in files:\n",
    "    sr, y = read(f)\n",
    "    features= Test_MFCC_delta2(sr,y)\n",
    "    scores= None\n",
    "    log_likelihood= np.zeros(len(models)) \n",
    "        \n",
    "    for i in range(len(models)):\n",
    "        gmm= models[i]         #checking with each model one by one\n",
    "        scores= np.array(gmm.score(features))\n",
    "        log_likelihood[i] = scores.sum()\n",
    "        \n",
    "    winner = np.argmax(log_likelihood)\n",
    "    #print(f.split('\\\\')[-1].split('.wav')[0])\n",
    "    #print(log_likelihood[8])\n",
    "    score = Similarity(log_likelihood[owner_idx], log_likelihood[winner], people[owner_idx], people[winner])\n",
    "    print('Detected as-', people[winner])\n",
    "    print(\"Similarity: \", score ,'%')\n",
    "    if score <= 90:\n",
    "        image0 = Image.open('C:\\\\Users\\\\user\\\\Desktop\\\\科研部_SR\\\\photo\\\\Error.jpg', 'r')\n",
    "        plt.figure()\n",
    "        imshow(np.asarray(image0))\n",
    "        plt.show()\n",
    "        print('Error ! Please try again QAQ')\n",
    "    else:\n",
    "        image1 = Image.open('C:\\\\Users\\\\user\\\\Desktop\\\\科研部_SR\\\\photo\\\\'+owner+'.jpg', 'r')\n",
    "        plt.figure()\n",
    "        imshow(np.asarray(image1))\n",
    "        plt.show()\n",
    "        print('Correct~ May I help you, '+owner+'?')\n",
    "    \n",
    "    #print('\\n')"
   ]
  },
  {
   "cell_type": "markdown",
   "metadata": {},
   "source": [
    "# 計算每人的驗證相似度"
   ]
  },
  {
   "cell_type": "code",
   "execution_count": 124,
   "metadata": {
    "collapsed": true
   },
   "outputs": [],
   "source": [
    "path = \"C:\\\\Users\\\\user\\\\Desktop\\\\科研部_SR\\\\audio dataset\\\\Test\\\\\"       \n",
    "folders = [os.path.join(path,f) for f in os.listdir(path)]\n",
    "for i in range(len(folders)):\n",
    "    folders[i] = folders[i]+'\\\\'"
   ]
  },
  {
   "cell_type": "code",
   "execution_count": 125,
   "metadata": {},
   "outputs": [
    {
     "data": {
      "text/plain": [
       "['C:\\\\Users\\\\user\\\\Desktop\\\\科研部_SR\\\\audio dataset\\\\Test\\\\任卓英\\\\',\n",
       " 'C:\\\\Users\\\\user\\\\Desktop\\\\科研部_SR\\\\audio dataset\\\\Test\\\\吳偉誌\\\\',\n",
       " 'C:\\\\Users\\\\user\\\\Desktop\\\\科研部_SR\\\\audio dataset\\\\Test\\\\彭瑋玉\\\\',\n",
       " 'C:\\\\Users\\\\user\\\\Desktop\\\\科研部_SR\\\\audio dataset\\\\Test\\\\徐天鴻\\\\',\n",
       " 'C:\\\\Users\\\\user\\\\Desktop\\\\科研部_SR\\\\audio dataset\\\\Test\\\\林上淳\\\\',\n",
       " 'C:\\\\Users\\\\user\\\\Desktop\\\\科研部_SR\\\\audio dataset\\\\Test\\\\林淑芳\\\\',\n",
       " 'C:\\\\Users\\\\user\\\\Desktop\\\\科研部_SR\\\\audio dataset\\\\Test\\\\柯青宏\\\\',\n",
       " 'C:\\\\Users\\\\user\\\\Desktop\\\\科研部_SR\\\\audio dataset\\\\Test\\\\洪立全\\\\',\n",
       " 'C:\\\\Users\\\\user\\\\Desktop\\\\科研部_SR\\\\audio dataset\\\\Test\\\\蘇玫如\\\\',\n",
       " 'C:\\\\Users\\\\user\\\\Desktop\\\\科研部_SR\\\\audio dataset\\\\Test\\\\賴嘉平\\\\',\n",
       " 'C:\\\\Users\\\\user\\\\Desktop\\\\科研部_SR\\\\audio dataset\\\\Test\\\\賴昇頤\\\\',\n",
       " 'C:\\\\Users\\\\user\\\\Desktop\\\\科研部_SR\\\\audio dataset\\\\Test\\\\邱建豪\\\\',\n",
       " 'C:\\\\Users\\\\user\\\\Desktop\\\\科研部_SR\\\\audio dataset\\\\Test\\\\陳亭嘉\\\\',\n",
       " 'C:\\\\Users\\\\user\\\\Desktop\\\\科研部_SR\\\\audio dataset\\\\Test\\\\陳冠霖\\\\',\n",
       " 'C:\\\\Users\\\\user\\\\Desktop\\\\科研部_SR\\\\audio dataset\\\\Test\\\\陳威良\\\\',\n",
       " 'C:\\\\Users\\\\user\\\\Desktop\\\\科研部_SR\\\\audio dataset\\\\Test\\\\陳慶安\\\\',\n",
       " 'C:\\\\Users\\\\user\\\\Desktop\\\\科研部_SR\\\\audio dataset\\\\Test\\\\陳祐嘉\\\\']"
      ]
     },
     "execution_count": 125,
     "metadata": {},
     "output_type": "execute_result"
    }
   ],
   "source": [
    "folders"
   ]
  },
  {
   "cell_type": "code",
   "execution_count": 126,
   "metadata": {},
   "outputs": [
    {
     "name": "stdout",
     "output_type": "stream",
     "text": [
      "[100, 100, 100, 100, 100, 100, 100, 100, 100, 100, 100, 100, 100, 100, 100, 100, 100, 100, 100, 100, 100, 100, 100]\n",
      "任卓英 :  100.0\n",
      "[100, 100, 100, 100, 100, 100, 100, 100, 100, 100, 100, 100, 100, 100, 100, 100, -27.15839226532671, 100, 100, 36.14620109994517, 100, 100, 100, 100, 52.69593049063483]\n",
      "吳偉誌 :  90.46734957301014\n",
      "[100, 100, 100, 100, 100, 100, 100, 100, 100, 100, 100, 100, 100, 100, 100, 100, 100, 100, 100, 100, 100, 100, 100, 100, 100, 100, 100, 100, 100, 100, 100, 100, 100]\n",
      "彭瑋玉 :  100.0\n",
      "[100, 100, 100, 100, 100, 100, 100, 100, 100, 100, 100, 100, 100, 100, 100, 100, 100, 100, 100, 100, 100, 100, 100, 100, 100, 100, 100, 100, 100, 100, 100, 100, 98.66841327075522, 100, 96.65809326239638, 100, 56.458354515496325, 100]\n",
      "徐天鴻 :  98.73118055391178\n",
      "[100, 100, 100, 100, 100, 100, 100, 100, 100, 100, 100, 100, 100, 100, 100, 100, 100, 100, 100, 100, 100, 100, 100, 100, 100, 100, 100]\n",
      "林上淳 :  100.0\n",
      "[100, 100, 100, 100, 100, 100, 100, 100, 100, 100, 100, 100, 100, 100, 100, 100, 100, 100, 100, 100, 100, 100, 100, 100, 100, 100, 100, 100]\n",
      "林淑芳 :  100.0\n",
      "[100, 100, 100, 100, 100, 100, 100, 100, 100, 100, 100, 100, 100, 100]\n",
      "柯青宏 :  100.0\n",
      "[100, 100, 100, 100, 100, 100, 100, 100, 100, 100, 100, 100, 100, 100, 100, 100, 100]\n",
      "洪立全 :  100.0\n",
      "[100, 100, 100, 100, 100, 100, 100, 100, 100, 100, 100, 100, 100, 100, 100, 100]\n",
      "蘇玫如 :  100.0\n",
      "[100, 100, 100, 100, 100, 100, 100, 100, 100, 100, 100, 90.85990146097302, 100, 100, 100, 100, 100, 100, 98.54959118344074, 100, 100, 100, 100, 100, 100]\n",
      "賴嘉平 :  99.57637970577656\n",
      "[100, 100, 100, 100, 100, 100, 100, 100, 100, 100, 100, 100, 100, 100, 100, 100, 100, 100, 100, 100, 100, 100, 100]\n",
      "賴昇頤 :  100.0\n",
      "[100, 100, 100, 100, 100, 100, 100, 98.91944059401496, 100, 100, 100, 87.11911228891573, 100, 100, 100, 100, 100, 100, 100, 100, 100, 100, 100, 100, 100, 100, 100, 100]\n",
      "邱建豪 :  99.50137688867609\n",
      "[100, 100, 100, 100, 100, 100, 100, 100, 100, 100, 100, 100, 100, 100, 100, 100, 100, 100, 100, 100, 100, 100, 100, 100, 100]\n",
      "陳亭嘉 :  100.0\n",
      "[100, 100, 100, 100, 100, 100, 100, 100, 100, 100, 96.22659305984762, 100, 100, 90.65763802390597, 96.92230858189671, 95.38803460304281, 100, 100, 100]\n",
      "陳冠霖 :  98.9049775930891\n",
      "[100, 100, 100, 100, 100, 100, 100, 96.54749737750774, 100, 100, 100, 100, 100, 100, 100, 100, 100, 100, 100]\n",
      "陳威良 :  99.81828933565829\n",
      "[100, 100, 100, 100, 100, 100, 100, 100, 100, 100, 100, 100, 100, 100, 100, 100, 100, 100, 100, 100, 100, 100, 100, 100, 100, 100, 100, 100, 100, 100, 100, 100, 100, 100, 100, 100, 100, 100, 100, 100, 100, 100, 100]\n",
      "陳慶安 :  100.0\n",
      "[100, 100, 100, 97.89430300018991, 100, 100, 100, 100, 100, 100, 100, 100, 100, 100, 100, 100]\n",
      "陳祐嘉 :  99.86839393751187\n",
      "Total_accuracy:  99.19463728054328\n"
     ]
    }
   ],
   "source": [
    "modelpath = \"C:\\\\Users\\\\user\\\\Desktop\\\\科研部_SR\\\\model\\\\\" \n",
    "total = []\n",
    "\n",
    "for i in range(len(folders)):\n",
    "    files  = [os.path.join(folders[i],f) for f in os.listdir(folders[i]) if f.endswith(\".wav\")] \n",
    "    gmm_files = [os.path.join(modelpath,fname) for fname in os.listdir(modelpath) if fname.endswith('.gmm')]\n",
    "    models    = [pickle.load(open(fname,'rb')) for fname in gmm_files]\n",
    "    people   = [fname.split(\"\\\\\")[-1].split(\".gmm\")[0] for fname in gmm_files]\n",
    "\n",
    "    person = []\n",
    "\n",
    "    # 隨時調整\n",
    "    owner = folders[i].split('\\\\')[-2]\n",
    "    for i in range(len(models)):\n",
    "        if(people[i]==owner):\n",
    "            owner_idx = i\n",
    "\n",
    "    for f in files:\n",
    "        sr, y = read(f)\n",
    "        features= Test_MFCC_delta2(sr,y)\n",
    "        scores= None\n",
    "        log_likelihood= np.zeros(len(models)) \n",
    "        \n",
    "        for i in range(len(models)):\n",
    "            gmm= models[i]         #checking with each model one by one\n",
    "            scores= np.array(gmm.score(features))\n",
    "            log_likelihood[i] = scores.sum()\n",
    "        \n",
    "        winner = np.argmax(log_likelihood)\n",
    "        #print(f.split('\\\\')[-1].split('.wav')[0])\n",
    "        #print(log_likelihood[owner])\n",
    "        score = Similarity(log_likelihood[owner_idx], log_likelihood[winner], people[owner_idx], people[winner])\n",
    "        #print('Detected as-', people[winner])\n",
    "        #print(\"Similarity: \", score ,'%')\n",
    "        person.append(score)\n",
    "        total.append(score)\n",
    "    print(person)\n",
    "    print(owner,': ',sum(person)/len(files))\n",
    "print('Total_accuracy: ',sum(total)/419)"
   ]
  },
  {
   "cell_type": "code",
   "execution_count": null,
   "metadata": {
    "collapsed": true
   },
   "outputs": [],
   "source": []
  },
  {
   "cell_type": "code",
   "execution_count": null,
   "metadata": {
    "collapsed": true
   },
   "outputs": [],
   "source": []
  }
 ],
 "metadata": {
  "kernelspec": {
   "display_name": "Python 3",
   "language": "python",
   "name": "python3"
  },
  "language_info": {
   "codemirror_mode": {
    "name": "ipython",
    "version": 3
   },
   "file_extension": ".py",
   "mimetype": "text/x-python",
   "name": "python",
   "nbconvert_exporter": "python",
   "pygments_lexer": "ipython3",
   "version": "3.6.6"
  }
 },
 "nbformat": 4,
 "nbformat_minor": 2
}
